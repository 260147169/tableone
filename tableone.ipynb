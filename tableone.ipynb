{
  "nbformat": 4,
  "nbformat_minor": 0,
  "metadata": {
    "kernelspec": {
      "display_name": "Python 3",
      "language": "python",
      "name": "python3"
    },
    "language_info": {
      "codemirror_mode": {
        "name": "ipython",
        "version": 3
      },
      "file_extension": ".py",
      "mimetype": "text/x-python",
      "name": "python",
      "nbconvert_exporter": "python",
      "pygments_lexer": "ipython3",
      "version": "3.7.4"
    },
    "colab": {
      "name": "tableone.ipynb",
      "provenance": [],
      "include_colab_link": true
    }
  },
  "cells": [
    {
      "cell_type": "markdown",
      "metadata": {
        "id": "view-in-github",
        "colab_type": "text"
      },
      "source": [
        "<a href=\"https://colab.research.google.com/github/tompollard/tableone/blob/master/tableone.ipynb\" target=\"_parent\"><img src=\"https://colab.research.google.com/assets/colab-badge.svg\" alt=\"Open In Colab\"/></a>"
      ]
    },
    {
      "cell_type": "markdown",
      "metadata": {
        "id": "1L4PNS9zlenU",
        "colab_type": "text"
      },
      "source": [
        "# Demonstrating the `tableone` package"
      ]
    },
    {
      "cell_type": "markdown",
      "metadata": {
        "id": "lIy5WOdwlenW",
        "colab_type": "text"
      },
      "source": [
        "In research papers, it is common for the first table (\"Table 1\") to display summary statistics of the study data. The `tableone` package is used to create this table. For an introduction to basic statistical reporting in biomedical journals, we recommend reading the [SAMPL Guidelines](http://www.equator-network.org/wp-content/uploads/2013/07/SAMPL-Guidelines-6-27-13.pdf). For more reading on accurate reporting in health research, visit the [EQUATOR Network](http://www.equator-network.org/)."
      ]
    },
    {
      "cell_type": "markdown",
      "metadata": {
        "id": "rU8kOGejlenX",
        "colab_type": "text"
      },
      "source": [
        "## A note for users of `tableone`"
      ]
    },
    {
      "cell_type": "markdown",
      "metadata": {
        "id": "-JPKSSm4lenX",
        "colab_type": "text"
      },
      "source": [
        "While we have tried to use best practices in creating this package, automation of even basic statistical tasks can be unsound if done without supervision. We encourage use of `tableone` alongside other methods of descriptive statistics and, in particular, visualization to ensure appropriate data handling. \n",
        "\n",
        "It is beyond the scope of our documentation to provide detailed guidance on summary statistics, but as a primer we provide some considerations for choosing parameters when creating a summary table at: http://tableone.readthedocs.io/en/latest/bestpractice.html. \n",
        "\n",
        "*Guidance should be sought from a statistician when using `tableone` for a research study, especially prior to submitting the study for publication*."
      ]
    },
    {
      "cell_type": "markdown",
      "metadata": {
        "id": "RUAitk5GlenY",
        "colab_type": "text"
      },
      "source": [
        "## Suggested citation\n",
        "If you use tableone in your study, please cite the following paper:\n",
        "\n",
        "> Tom J Pollard, Alistair E W Johnson, Jesse D Raffa, Roger G Mark; *tableone*: An open source Python package for producing summary statistics for research papers, *JAMIA Open*, Volume 1, Issue 1, 1 July 2018, Pages 26–31, https://doi.org/10.1093/jamiaopen/ooy012\n",
        "\n",
        "Download the BibTex file from: https://academic.oup.com/jamiaopen/downloadcitation/5001910?format=bibtex"
      ]
    },
    {
      "cell_type": "markdown",
      "metadata": {
        "id": "XCSU34EBlenY",
        "colab_type": "text"
      },
      "source": [
        "## Installation\n",
        "\n",
        "To install the package with pip, run the following command in your terminal: ``pip install tableone``. To install the package with Conda, run: ``conda install -c conda-forge tableone``. For more detailed installation instructions, refer to the [documentation](http://tableone.readthedocs.io/en/latest/install.html)."
      ]
    },
    {
      "cell_type": "markdown",
      "metadata": {
        "id": "8HqjUE1blenZ",
        "colab_type": "text"
      },
      "source": [
        "## Importing libraries\n",
        "\n",
        "Before using the `tableone` package, we need to import it. We will also import `pandas` for loading our sample dataset and `matplotlib` for creating plots."
      ]
    },
    {
      "cell_type": "code",
      "metadata": {
        "id": "r6ASOU2tovSv",
        "colab_type": "code",
        "colab": {}
      },
      "source": [
        "# import numerical libraries\n",
        "import pandas as pd\n",
        "import matplotlib.pyplot as plt\n",
        "%matplotlib inline"
      ],
      "execution_count": 0,
      "outputs": []
    },
    {
      "cell_type": "code",
      "metadata": {
        "id": "0VAicyEnlena",
        "colab_type": "code",
        "colab": {}
      },
      "source": [
        "# import tableone\n",
        "try:\n",
        "    from tableone import TableOne\n",
        "except ModuleNotFoundError:\n",
        "    # install on Colab\n",
        "    !pip install tableone\n",
        "    import tableone"
      ],
      "execution_count": 0,
      "outputs": []
    },
    {
      "cell_type": "markdown",
      "metadata": {
        "id": "sDBiQ5Dklenf",
        "colab_type": "text"
      },
      "source": [
        "## Loading sample data\n",
        "\n",
        "We begin by loading the data that we would like to summarize into a Pandas DataFrame. \n",
        "- Variables are in columns\n",
        "- Encounters/observations are in rows."
      ]
    },
    {
      "cell_type": "code",
      "metadata": {
        "id": "o-rF0RYalenf",
        "colab_type": "code",
        "colab": {}
      },
      "source": [
        "# load sample data into a pandas dataframe\n",
        "url=\"https://raw.githubusercontent.com/tompollard/tableone/master/data/pn2012_demo.csv\"\n",
        "data=pd.read_csv(url)"
      ],
      "execution_count": 0,
      "outputs": []
    },
    {
      "cell_type": "code",
      "metadata": {
        "id": "cn0hC8ATleno",
        "colab_type": "code",
        "colab": {}
      },
      "source": [
        "data.head()"
      ],
      "execution_count": 0,
      "outputs": []
    },
    {
      "cell_type": "markdown",
      "metadata": {
        "id": "n38OzvJWlens",
        "colab_type": "text"
      },
      "source": [
        "## Example 1: Simple summary of data with Table 1\n",
        "\n",
        "In this example we provide summary statistics across all of the data."
      ]
    },
    {
      "cell_type": "code",
      "metadata": {
        "id": "IkKebCNGlens",
        "colab_type": "code",
        "colab": {}
      },
      "source": [
        "# view the tableone docstring\n",
        "TableOne??"
      ],
      "execution_count": 0,
      "outputs": []
    },
    {
      "cell_type": "code",
      "metadata": {
        "id": "XSkVGA_Rlenw",
        "colab_type": "code",
        "colab": {}
      },
      "source": [
        "# create an instance of TableOne with the input arguments\n",
        "# firstly, with no grouping variable\n",
        "overall_table = TableOne(data, label_suffix=True)"
      ],
      "execution_count": 0,
      "outputs": []
    },
    {
      "cell_type": "code",
      "metadata": {
        "scrolled": true,
        "id": "m93j5xqflen1",
        "colab_type": "code",
        "colab": {}
      },
      "source": [
        "# view first 10 rows of tableone\n",
        "overall_table"
      ],
      "execution_count": 0,
      "outputs": []
    },
    {
      "cell_type": "code",
      "metadata": {
        "id": "flNF6liJlen5",
        "colab_type": "code",
        "colab": {}
      },
      "source": [
        "# the pd.DataFrame object can be accessed using the `tableone` attribute\n",
        "type(overall_table.tableone)"
      ],
      "execution_count": 0,
      "outputs": []
    },
    {
      "cell_type": "markdown",
      "metadata": {
        "id": "MNgmBIzVlen7",
        "colab_type": "text"
      },
      "source": [
        "**Summary of the table**:\n",
        "- the first row ('`n`') displays a count of the encounters/observations in the input data.\n",
        "- the '`Missing`' column displays a count of the null values for the particular variable.\n",
        "- if categorical variables are not defined in the arguments, they are detected automatically.\n",
        "- continuous variables (e.g. '`age`') are summarized by '`mean (std)`'.\n",
        "- categorical variables (e.g. '`ascites`') are summarized by '`n (% of non-null values)`'.\n",
        "- if `label_suffix=True`, \"mean (SD); n (%);\" etc are appended to the row label."
      ]
    },
    {
      "cell_type": "markdown",
      "metadata": {
        "id": "F5K5QGBOlen8",
        "colab_type": "text"
      },
      "source": [
        "## Displaying the table in custom formats\n",
        "\n",
        "The tableone object includes a `tabulate` method, that makes use of the [tabulate](https://pypi.org/project/tabulate/) package to display the table in custom output formats. Supported table formats include: \"github\", \"grid\", \"fancy_grid\", \"rst\", \"html\", \"latex\", and \"latex_raw\". See the tabulate package for more formats."
      ]
    },
    {
      "cell_type": "code",
      "metadata": {
        "scrolled": true,
        "id": "YJkaaWkplen9",
        "colab_type": "code",
        "colab": {}
      },
      "source": [
        "print(overall_table.tabulate(tablefmt = \"fancy_grid\"))"
      ],
      "execution_count": 0,
      "outputs": []
    },
    {
      "cell_type": "markdown",
      "metadata": {
        "id": "TOjkz-zCleoB",
        "colab_type": "text"
      },
      "source": [
        "## Exporting your table to LaTex\n",
        "\n",
        "To export your table in LaTex (for example, to add to your document on [Overleaf.com](https://www.overleaf.com/)), it's simple with the `tabulate` method. Just copy and paste the output below."
      ]
    },
    {
      "cell_type": "code",
      "metadata": {
        "id": "xipRHpH9leoB",
        "colab_type": "code",
        "colab": {}
      },
      "source": [
        "print(overall_table.tabulate(tablefmt = \"latex\"))"
      ],
      "execution_count": 0,
      "outputs": []
    },
    {
      "cell_type": "markdown",
      "metadata": {
        "id": "N5Xnw-x2leoI",
        "colab_type": "text"
      },
      "source": [
        "## Exploring the warning raised by Hartigan's Dip Test\n",
        "\n",
        "Hartigan's Dip Test is a test for multimodality. The test has suggested that the `Age`, `SysABP`, and `Height` distributions may be multimodal. We'll plot the distributions here."
      ]
    },
    {
      "cell_type": "code",
      "metadata": {
        "id": "ohUFHlwBleoJ",
        "colab_type": "code",
        "colab": {}
      },
      "source": [
        "data[['Age','SysABP','Height']].dropna().plot.kde(figsize=[12,8])\n",
        "plt.legend(['Age (years)', 'SysABP (mmHg)', 'Height (cm)'])\n",
        "plt.xlim([-30,250])"
      ],
      "execution_count": 0,
      "outputs": []
    },
    {
      "cell_type": "markdown",
      "metadata": {
        "id": "naKuFh2xleoL",
        "colab_type": "text"
      },
      "source": [
        "## Exploring the warning raised by Tukey's rule\n",
        "\n",
        "Tukey's rule has found far outliers in Height, so we'll look at this in a boxplot"
      ]
    },
    {
      "cell_type": "code",
      "metadata": {
        "id": "hFgwrRh0leoL",
        "colab_type": "code",
        "colab": {}
      },
      "source": [
        "data[['Age','Height','SysABP']].boxplot(whis=3)\n",
        "plt.show()"
      ],
      "execution_count": 0,
      "outputs": []
    },
    {
      "cell_type": "markdown",
      "metadata": {
        "id": "dFlN43fhleoO",
        "colab_type": "text"
      },
      "source": [
        "In both cases it seems that there are values that may need to be taken into account when calculating the summary statistics. For `SysABP`, a clearly bimodal distribution, the researcher will need to decide how to handle the peak at ~0, perhaps by cleaning the data and/or describing the issue in the summary table. For `Height`, the researcher may choose to report median, rather than mean."
      ]
    },
    {
      "cell_type": "markdown",
      "metadata": {
        "id": "rJcqGPO-leoO",
        "colab_type": "text"
      },
      "source": [
        "## Example 2: Table 1 without stratification\n",
        "\n",
        "In this example we provide summary statistics across all of the data, specifying columns, categorical variables, and non-normal variables."
      ]
    },
    {
      "cell_type": "code",
      "metadata": {
        "id": "2TuCwYPHleoQ",
        "colab_type": "code",
        "colab": {}
      },
      "source": [
        "# columns to summarize\n",
        "columns = ['Age', 'SysABP', 'Height', 'Weight', 'ICU', 'death']\n",
        "\n",
        "# columns containing categorical variables\n",
        "categorical = ['ICU', 'death']\n",
        "\n",
        "# non-normal variables\n",
        "nonnormal = ['Age']\n",
        "\n",
        "# limit the binary variable \"death\" to a single row\n",
        "limit = {\"death\": 1}\n",
        "\n",
        "# set the order of the categorical variables\n",
        "order = {\"ICU\": [\"MICU\", \"SICU\", \"CSRU\", \"CCU\"],\n",
        "         \"death\": [\"1\"]}\n",
        "\n",
        "# alternative labels\n",
        "labels={'death': 'Mortality'}\n",
        "\n",
        "# set decimal places for age to 0\n",
        "decimals = {\"Age\": 0}\n",
        "\n",
        "# create tableone with the input arguments\n",
        "mytable = TableOne(data, columns=columns, categorical=categorical, \n",
        "                   nonnormal=nonnormal, rename=labels, label_suffix=True, \n",
        "                   decimals=decimals, limit=limit, order=order)\n",
        "\n",
        "mytable"
      ],
      "execution_count": 0,
      "outputs": []
    },
    {
      "cell_type": "markdown",
      "metadata": {
        "id": "jG3dUr3FleoS",
        "colab_type": "text"
      },
      "source": [
        "**Summary of the table**:\n",
        "\n",
        "- variables are explicitly defined in the input arguments.\n",
        "- the variables are displayed in the same order as the `columns` argument.\n",
        "- the `limit` argument specifies that only a 1 value should be shown for death.\n",
        "- the order of categorical values is defined in the optional `order` argument.\n",
        "- `nonnormal` continuous variables are summarized by '`median [Q1,Q3]`' instead of `mean (SD)`.\n",
        "- 'sex' is shown as 'gender and 'trt' is shown as 'treatment', as specified in the `rename` argument."
      ]
    },
    {
      "cell_type": "markdown",
      "metadata": {
        "id": "WNQjOdYWleoT",
        "colab_type": "text"
      },
      "source": [
        "## Example 3: Table 1 with stratification\n",
        "\n",
        "In this example, we group data across a categorical variable."
      ]
    },
    {
      "cell_type": "code",
      "metadata": {
        "id": "6Jeh7n7SleoU",
        "colab_type": "code",
        "colab": {}
      },
      "source": [
        "# optionally, a categorical variable for stratification\n",
        "groupby = ['death']\n",
        "\n",
        "# rename the death column\n",
        "labels={'death': 'Mortality'}"
      ],
      "execution_count": 0,
      "outputs": []
    },
    {
      "cell_type": "code",
      "metadata": {
        "id": "lUwT1TqFleoY",
        "colab_type": "code",
        "colab": {}
      },
      "source": [
        "# create an instance of TableOne with the input arguments\n",
        "grouped_table = TableOne(data, columns, categorical, groupby, \n",
        "                         nonnormal, rename=labels, label_suffix=True)"
      ],
      "execution_count": 0,
      "outputs": []
    },
    {
      "cell_type": "code",
      "metadata": {
        "id": "dE1vOh2wleob",
        "colab_type": "code",
        "colab": {}
      },
      "source": [
        "# view first 10 rows of tableone\n",
        "grouped_table"
      ],
      "execution_count": 0,
      "outputs": []
    },
    {
      "cell_type": "markdown",
      "metadata": {
        "id": "kXNvOpbrleoi",
        "colab_type": "text"
      },
      "source": [
        "**Summary of the table**:\n",
        "- data is summarized across the groups specified in the `groupby` argument.\n",
        "- as before, the summary statistics are either '`mean (std)`', '`median [Q1,Q3]`', or '`n (% of non-null values)`'."
      ]
    },
    {
      "cell_type": "markdown",
      "metadata": {
        "id": "5uAN20wDleoj",
        "colab_type": "text"
      },
      "source": [
        "## Computing p-values\n",
        "\n",
        "We can run a test to compute p values by setting the ``pval`` argument to True."
      ]
    },
    {
      "cell_type": "code",
      "metadata": {
        "id": "8oric66hleoj",
        "colab_type": "code",
        "colab": {}
      },
      "source": [
        "# create grouped_table with p values\n",
        "grouped_table = TableOne(data, columns, categorical, groupby, \n",
        "                         nonnormal, label_suffix=True, pval = True)"
      ],
      "execution_count": 0,
      "outputs": []
    },
    {
      "cell_type": "code",
      "metadata": {
        "id": "mLeUYSoJleoo",
        "colab_type": "code",
        "colab": {}
      },
      "source": [
        "# view first 10 rows of tableone\n",
        "grouped_table"
      ],
      "execution_count": 0,
      "outputs": []
    },
    {
      "cell_type": "markdown",
      "metadata": {
        "id": "LlqmAzm9leoq",
        "colab_type": "text"
      },
      "source": [
        "**Summary of the table**:\n",
        "- the '`Test`' column displays the name of the test used to compare the groups.\n",
        "- the '`p-value`' column displays the p value generated by the test in the '`Test`' column, to 3 decimal places."
      ]
    },
    {
      "cell_type": "markdown",
      "metadata": {
        "id": "FtES2ixzleor",
        "colab_type": "text"
      },
      "source": [
        "## Exporting the table to file (LaTeX, CSV, etc)\n",
        "\n",
        "Tables can be exported to file in various formats, including:\n",
        "- LaTeX\n",
        "- CSV\n",
        "- HTML\n",
        "\n",
        "To export the table, call the relevant `to_<format>()` method on the DataFrame."
      ]
    },
    {
      "cell_type": "code",
      "metadata": {
        "id": "M076ErLVleor",
        "colab_type": "code",
        "colab": {}
      },
      "source": [
        "# Save to Excel\n",
        "fn = 'tableone.xlsx'\n",
        "grouped_table.to_excel(fn)"
      ],
      "execution_count": 0,
      "outputs": []
    },
    {
      "cell_type": "code",
      "metadata": {
        "id": "3BFNUp5Lleot",
        "colab_type": "code",
        "colab": {}
      },
      "source": [
        "# Save table to LaTeX\n",
        "fn = 'tableone.tex'\n",
        "grouped_table.to_latex(fn)"
      ],
      "execution_count": 0,
      "outputs": []
    },
    {
      "cell_type": "code",
      "metadata": {
        "id": "4k9Cp4gJleow",
        "colab_type": "code",
        "colab": {}
      },
      "source": [
        "# Save table to HTML\n",
        "fn2 = 'tableone.html'\n",
        "grouped_table.to_html(fn2)"
      ],
      "execution_count": 0,
      "outputs": []
    }
  ]
}