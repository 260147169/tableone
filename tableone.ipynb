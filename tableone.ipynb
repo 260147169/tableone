{
 "cells": [
  {
   "cell_type": "markdown",
   "metadata": {
    "deletable": true,
    "editable": true
   },
   "source": [
    "# Demonstrating the TableOne package for Python"
   ]
  },
  {
   "cell_type": "markdown",
   "metadata": {
    "deletable": true,
    "editable": true
   },
   "source": [
    "The `tableone` package is used to create Table 1 for research papers. It was inspired by the R package of the same name."
   ]
  },
  {
   "cell_type": "markdown",
   "metadata": {
    "deletable": true,
    "editable": true
   },
   "source": [
    "## Installation\n",
    "\n",
    "The distribution is hosted on PyPI and directly installable via pip without needing to clone or download this repository. To install the package from PyPI, run the following command in your terminal:\n",
    "\n",
    "``pip install tableone``"
   ]
  },
  {
   "cell_type": "markdown",
   "metadata": {
    "deletable": true,
    "editable": true
   },
   "source": [
    "## Example of Table 1 without stratification"
   ]
  },
  {
   "cell_type": "code",
   "execution_count": 1,
   "metadata": {
    "collapsed": true,
    "deletable": true,
    "editable": true
   },
   "outputs": [],
   "source": [
    "# import libraries\n",
    "from tableone import TableOne\n",
    "import pandas as pd"
   ]
  },
  {
   "cell_type": "code",
   "execution_count": 2,
   "metadata": {
    "collapsed": true,
    "deletable": true,
    "editable": true
   },
   "outputs": [],
   "source": [
    "# load sample data into a pandas dataframe\n",
    "url=\"https://raw.githubusercontent.com/tompollard/data/master/primary-biliary-cirrhosis/pbc.csv\"\n",
    "data=pd.read_csv(url, index_col='id')"
   ]
  },
  {
   "cell_type": "code",
   "execution_count": 3,
   "metadata": {
    "collapsed": false,
    "deletable": true,
    "editable": true
   },
   "outputs": [
    {
     "data": {
      "text/html": [
       "<div>\n",
       "<style>\n",
       "    .dataframe thead tr:only-child th {\n",
       "        text-align: right;\n",
       "    }\n",
       "\n",
       "    .dataframe thead th {\n",
       "        text-align: left;\n",
       "    }\n",
       "\n",
       "    .dataframe tbody tr th {\n",
       "        vertical-align: top;\n",
       "    }\n",
       "</style>\n",
       "<table border=\"1\" class=\"dataframe\">\n",
       "  <thead>\n",
       "    <tr style=\"text-align: right;\">\n",
       "      <th></th>\n",
       "      <th>time</th>\n",
       "      <th>status</th>\n",
       "      <th>trt</th>\n",
       "      <th>age</th>\n",
       "      <th>sex</th>\n",
       "      <th>ascites</th>\n",
       "      <th>hepato</th>\n",
       "      <th>spiders</th>\n",
       "      <th>edema</th>\n",
       "      <th>bili</th>\n",
       "      <th>chol</th>\n",
       "      <th>albumin</th>\n",
       "      <th>copper</th>\n",
       "      <th>alk.phos</th>\n",
       "      <th>ast</th>\n",
       "      <th>trig</th>\n",
       "      <th>platelet</th>\n",
       "      <th>protime</th>\n",
       "      <th>stage</th>\n",
       "    </tr>\n",
       "    <tr>\n",
       "      <th>id</th>\n",
       "      <th></th>\n",
       "      <th></th>\n",
       "      <th></th>\n",
       "      <th></th>\n",
       "      <th></th>\n",
       "      <th></th>\n",
       "      <th></th>\n",
       "      <th></th>\n",
       "      <th></th>\n",
       "      <th></th>\n",
       "      <th></th>\n",
       "      <th></th>\n",
       "      <th></th>\n",
       "      <th></th>\n",
       "      <th></th>\n",
       "      <th></th>\n",
       "      <th></th>\n",
       "      <th></th>\n",
       "      <th></th>\n",
       "    </tr>\n",
       "  </thead>\n",
       "  <tbody>\n",
       "    <tr>\n",
       "      <th>1</th>\n",
       "      <td>400</td>\n",
       "      <td>2</td>\n",
       "      <td>1.0</td>\n",
       "      <td>58.765229</td>\n",
       "      <td>f</td>\n",
       "      <td>1.0</td>\n",
       "      <td>1.0</td>\n",
       "      <td>1.0</td>\n",
       "      <td>1.0</td>\n",
       "      <td>14.5</td>\n",
       "      <td>261.0</td>\n",
       "      <td>2.60</td>\n",
       "      <td>156.0</td>\n",
       "      <td>1718.0</td>\n",
       "      <td>137.95</td>\n",
       "      <td>172.0</td>\n",
       "      <td>190.0</td>\n",
       "      <td>12.2</td>\n",
       "      <td>4.0</td>\n",
       "    </tr>\n",
       "    <tr>\n",
       "      <th>2</th>\n",
       "      <td>4500</td>\n",
       "      <td>0</td>\n",
       "      <td>1.0</td>\n",
       "      <td>56.446270</td>\n",
       "      <td>f</td>\n",
       "      <td>0.0</td>\n",
       "      <td>1.0</td>\n",
       "      <td>1.0</td>\n",
       "      <td>0.0</td>\n",
       "      <td>1.1</td>\n",
       "      <td>302.0</td>\n",
       "      <td>4.14</td>\n",
       "      <td>54.0</td>\n",
       "      <td>7394.8</td>\n",
       "      <td>113.52</td>\n",
       "      <td>88.0</td>\n",
       "      <td>221.0</td>\n",
       "      <td>10.6</td>\n",
       "      <td>3.0</td>\n",
       "    </tr>\n",
       "    <tr>\n",
       "      <th>3</th>\n",
       "      <td>1012</td>\n",
       "      <td>2</td>\n",
       "      <td>1.0</td>\n",
       "      <td>70.072553</td>\n",
       "      <td>m</td>\n",
       "      <td>0.0</td>\n",
       "      <td>0.0</td>\n",
       "      <td>0.0</td>\n",
       "      <td>0.5</td>\n",
       "      <td>1.4</td>\n",
       "      <td>176.0</td>\n",
       "      <td>3.48</td>\n",
       "      <td>210.0</td>\n",
       "      <td>516.0</td>\n",
       "      <td>96.10</td>\n",
       "      <td>55.0</td>\n",
       "      <td>151.0</td>\n",
       "      <td>12.0</td>\n",
       "      <td>4.0</td>\n",
       "    </tr>\n",
       "    <tr>\n",
       "      <th>4</th>\n",
       "      <td>1925</td>\n",
       "      <td>2</td>\n",
       "      <td>1.0</td>\n",
       "      <td>54.740589</td>\n",
       "      <td>f</td>\n",
       "      <td>0.0</td>\n",
       "      <td>1.0</td>\n",
       "      <td>1.0</td>\n",
       "      <td>0.5</td>\n",
       "      <td>1.8</td>\n",
       "      <td>244.0</td>\n",
       "      <td>2.54</td>\n",
       "      <td>64.0</td>\n",
       "      <td>6121.8</td>\n",
       "      <td>60.63</td>\n",
       "      <td>92.0</td>\n",
       "      <td>183.0</td>\n",
       "      <td>10.3</td>\n",
       "      <td>4.0</td>\n",
       "    </tr>\n",
       "    <tr>\n",
       "      <th>5</th>\n",
       "      <td>1504</td>\n",
       "      <td>1</td>\n",
       "      <td>2.0</td>\n",
       "      <td>38.105407</td>\n",
       "      <td>f</td>\n",
       "      <td>0.0</td>\n",
       "      <td>1.0</td>\n",
       "      <td>1.0</td>\n",
       "      <td>0.0</td>\n",
       "      <td>3.4</td>\n",
       "      <td>279.0</td>\n",
       "      <td>3.53</td>\n",
       "      <td>143.0</td>\n",
       "      <td>671.0</td>\n",
       "      <td>113.15</td>\n",
       "      <td>72.0</td>\n",
       "      <td>136.0</td>\n",
       "      <td>10.9</td>\n",
       "      <td>3.0</td>\n",
       "    </tr>\n",
       "  </tbody>\n",
       "</table>\n",
       "</div>"
      ],
      "text/plain": [
       "    time  status  trt        age sex  ascites  hepato  spiders  edema  bili  \\\n",
       "id                                                                            \n",
       "1    400       2  1.0  58.765229   f      1.0     1.0      1.0    1.0  14.5   \n",
       "2   4500       0  1.0  56.446270   f      0.0     1.0      1.0    0.0   1.1   \n",
       "3   1012       2  1.0  70.072553   m      0.0     0.0      0.0    0.5   1.4   \n",
       "4   1925       2  1.0  54.740589   f      0.0     1.0      1.0    0.5   1.8   \n",
       "5   1504       1  2.0  38.105407   f      0.0     1.0      1.0    0.0   3.4   \n",
       "\n",
       "     chol  albumin  copper  alk.phos     ast   trig  platelet  protime  stage  \n",
       "id                                                                             \n",
       "1   261.0     2.60   156.0    1718.0  137.95  172.0     190.0     12.2    4.0  \n",
       "2   302.0     4.14    54.0    7394.8  113.52   88.0     221.0     10.6    3.0  \n",
       "3   176.0     3.48   210.0     516.0   96.10   55.0     151.0     12.0    4.0  \n",
       "4   244.0     2.54    64.0    6121.8   60.63   92.0     183.0     10.3    4.0  \n",
       "5   279.0     3.53   143.0     671.0  113.15   72.0     136.0     10.9    3.0  "
      ]
     },
     "execution_count": 3,
     "metadata": {},
     "output_type": "execute_result"
    }
   ],
   "source": [
    "data.head()"
   ]
  },
  {
   "cell_type": "code",
   "execution_count": 4,
   "metadata": {
    "collapsed": true,
    "deletable": true,
    "editable": true
   },
   "outputs": [],
   "source": [
    "# list of columns containing continuous variables\n",
    "convars = ['age','platelet','ast','bili']\n",
    "\n",
    "# list of columns containing categorical variables\n",
    "catvars = ['stage','edema']\n",
    "\n",
    "# optionally, a list of non-normal variables\n",
    "nonnormal = ['bili']"
   ]
  },
  {
   "cell_type": "code",
   "execution_count": 5,
   "metadata": {
    "collapsed": false,
    "deletable": true,
    "editable": true
   },
   "outputs": [],
   "source": [
    "# create an instance of TableOne with the input arguments\n",
    "# firstly, with no stratifying variable\n",
    "overall_table = TableOne(data, convars, catvars, nonnormal=nonnormal)"
   ]
  },
  {
   "cell_type": "code",
   "execution_count": 6,
   "metadata": {
    "collapsed": false,
    "deletable": true,
    "editable": true
   },
   "outputs": [
    {
     "data": {
      "text/plain": [
       "Overall\n",
       "                       overall\n",
       "---------------------  ----------------\n",
       "n                      418\n",
       "age (mean (std))       50.74 (10.45)\n",
       "platelet (mean (std))  257.02 (98.33)\n",
       "ast (mean (std))       122.56 (56.70)\n",
       "bili (median [IQR])    1.40 [0.80,3.40]\n",
       "stage (n (%))\n",
       "1.0                    21.00 (5.10)\n",
       "2.0                    92.00 (22.33)\n",
       "3.0                    155.00 (37.62)\n",
       "4.0                    144.00 (34.95)\n",
       "edema (n (%))\n",
       "0.0                    354.00 (84.69)\n",
       "0.5                    44.00 (10.53)\n",
       "1.0                    20.00 (4.78)"
      ]
     },
     "execution_count": 6,
     "metadata": {},
     "output_type": "execute_result"
    }
   ],
   "source": [
    "# type the name of the instance in an interpreter to print the table to screen\n",
    "overall_table"
   ]
  },
  {
   "cell_type": "markdown",
   "metadata": {
    "deletable": true,
    "editable": true
   },
   "source": [
    "## Example of Table 1 with stratification"
   ]
  },
  {
   "cell_type": "code",
   "execution_count": 7,
   "metadata": {
    "collapsed": true,
    "deletable": true,
    "editable": true
   },
   "outputs": [],
   "source": [
    "# optionally, a categorical variable for stratification\n",
    "strat = 'sex'"
   ]
  },
  {
   "cell_type": "code",
   "execution_count": 8,
   "metadata": {
    "collapsed": true,
    "deletable": true,
    "editable": true
   },
   "outputs": [],
   "source": [
    "# create an instance of TableOne with the input arguments\n",
    "strat_table = TableOne(data, convars, catvars, strat, nonnormal)"
   ]
  },
  {
   "cell_type": "code",
   "execution_count": 9,
   "metadata": {
    "collapsed": false,
    "deletable": true,
    "editable": true
   },
   "outputs": [
    {
     "data": {
      "text/plain": [
       "Stratified by sex\n",
       "                       f                 m\n",
       "---------------------  ----------------  ----------------\n",
       "n                      374               44\n",
       "age (mean (std))       55.71 (10.98)     50.16 (10.24)\n",
       "platelet (mean (std))  231.14 (85.23)    260.08 (99.42)\n",
       "ast (mean (std))       121.99 (47.01)    122.63 (57.92)\n",
       "bili (median [IQR])    2.05 [1.30,3.50]  1.30 [0.70,3.40]\n",
       "stage (n (%))\n",
       "1.0                    18.00 (4.89)      3.00 (6.82)\n",
       "2.0                    84.00 (22.83)     8.00 (18.18)\n",
       "3.0                    139.00 (37.77)    16.00 (36.36)\n",
       "4.0                    127.00 (34.51)    17.00 (38.64)\n",
       "edema (n (%))\n",
       "0.0                    318.00 (85.03)    36.00 (81.82)\n",
       "0.5                    39.00 (10.43)     5.00 (11.36)\n",
       "1.0                    17.00 (4.55)      3.00 (6.82)"
      ]
     },
     "execution_count": 9,
     "metadata": {},
     "output_type": "execute_result"
    }
   ],
   "source": [
    "strat_table"
   ]
  },
  {
   "cell_type": "markdown",
   "metadata": {
    "deletable": true,
    "editable": true
   },
   "source": [
    "## Testing\n",
    "\n",
    "Compute p values by setting the ``pval`` argument to True."
   ]
  },
  {
   "cell_type": "code",
   "execution_count": 10,
   "metadata": {
    "collapsed": true,
    "deletable": true,
    "editable": true
   },
   "outputs": [],
   "source": [
    "# create strat_table with p values\n",
    "strat_table = TableOne(data, convars, catvars, strat, nonnormal, pval = True)"
   ]
  },
  {
   "cell_type": "code",
   "execution_count": 11,
   "metadata": {
    "collapsed": false,
    "deletable": true,
    "editable": true
   },
   "outputs": [
    {
     "data": {
      "text/plain": [
       "Stratified by sex\n",
       "                       f                 m                 pval    testname\n",
       "---------------------  ----------------  ----------------  ------  --------------\n",
       "n                      374               44\n",
       "age (mean (std))       55.71 (10.98)     50.16 (10.24)     0.001   One_way_ANOVA\n",
       "platelet (mean (std))  231.14 (85.23)    260.08 (99.42)    0.068   One_way_ANOVA\n",
       "ast (mean (std))       121.99 (47.01)    122.63 (57.92)    0.949   One_way_ANOVA\n",
       "bili (median [IQR])    2.05 [1.30,3.50]  1.30 [0.70,3.40]  0.029   Kruskal-Wallis\n",
       "stage (n (%))                                              0.83    Chi-squared\n",
       "1.0                    18.00 (4.89)      3.00 (6.82)\n",
       "2.0                    84.00 (22.83)     8.00 (18.18)\n",
       "3.0                    139.00 (37.77)    16.00 (36.36)\n",
       "4.0                    127.00 (34.51)    17.00 (38.64)\n",
       "edema (n (%))                                              0.00    Chi-squared\n",
       "0.0                    318.00 (85.03)    36.00 (81.82)\n",
       "0.5                    39.00 (10.43)     5.00 (11.36)\n",
       "1.0                    17.00 (4.55)      3.00 (6.82)"
      ]
     },
     "execution_count": 11,
     "metadata": {},
     "output_type": "execute_result"
    }
   ],
   "source": [
    "strat_table"
   ]
  },
  {
   "cell_type": "markdown",
   "metadata": {
    "deletable": true,
    "editable": true
   },
   "source": [
    "## Export the table to file (LaTeX, Markdown, CSV, etc)\n",
    "\n",
    "Tables can be exported to file in various formats, including:\n",
    "- LaTeX\n",
    "- Markdown\n",
    "- CSV\n",
    "- HTML\n",
    "\n",
    "To export the table, call the relevant `to_<format>()` method, with an optional filename."
   ]
  },
  {
   "cell_type": "code",
   "execution_count": 12,
   "metadata": {
    "collapsed": false,
    "deletable": true,
    "editable": true
   },
   "outputs": [],
   "source": [
    "# Save the overall_table as LaTeX with the default filename ('tableone.tex')\n",
    "overall_table.to_latex()"
   ]
  },
  {
   "cell_type": "code",
   "execution_count": 13,
   "metadata": {
    "collapsed": true,
    "deletable": true,
    "editable": true
   },
   "outputs": [],
   "source": [
    "# Save the strat_table as markdown with the filename 'strat_table.html'\n",
    "strat_table.to_html('strat_table.html')"
   ]
  }
 ],
 "metadata": {
  "kernelspec": {
   "display_name": "Python 2",
   "language": "python",
   "name": "python2"
  },
  "language_info": {
   "codemirror_mode": {
    "name": "ipython",
    "version": 2
   },
   "file_extension": ".py",
   "mimetype": "text/x-python",
   "name": "python",
   "nbconvert_exporter": "python",
   "pygments_lexer": "ipython2",
   "version": "2.7.13"
  }
 },
 "nbformat": 4,
 "nbformat_minor": 2
}
