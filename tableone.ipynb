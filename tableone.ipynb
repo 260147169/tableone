{
 "cells": [
  {
   "cell_type": "markdown",
   "metadata": {},
   "source": [
    "# Demonstrating the `tableone` package"
   ]
  },
  {
   "cell_type": "markdown",
   "metadata": {},
   "source": [
    "In research papers, it is common for the first table (\"Table 1\") to display summary statistics of the study data. The `tableone` package is used to create this table. For an introduction to basic statistical reporting in biomedical journals, we recommend reading the [SAMPL Guidelines](http://www.equator-network.org/wp-content/uploads/2013/07/SAMPL-Guidelines-6-27-13.pdf). For more reading on accurate reporting in health research, visit the [EQUATOR Network](http://www.equator-network.org/)."
   ]
  },
  {
   "cell_type": "markdown",
   "metadata": {},
   "source": [
    "## A note for users of `tableone`"
   ]
  },
  {
   "cell_type": "markdown",
   "metadata": {},
   "source": [
    "While we have tried to use best practices in creating this package, automation of even basic statistical tasks can be unsound if done without supervision. We encourage use of `tableone` alongside other methods of descriptive statistics and, in particular, visualization to ensure appropriate data handling. \n",
    "\n",
    "It is beyond the scope of our documentation to provide detailed guidance on summary statistics, but as a primer we provide some considerations for choosing parameters when creating a summary table at: http://tableone.readthedocs.io/en/latest/bestpractice.html. \n",
    "\n",
    "*Guidance should be sought from a statistician when using `tableone` for a research study, especially prior to submitting the study for publication*."
   ]
  },
  {
   "cell_type": "markdown",
   "metadata": {},
   "source": [
    "## Suggested citation\n",
    "If you use tableone in your study, please cite the following paper:\n",
    "\n",
    "> Tom J Pollard, Alistair E W Johnson, Jesse D Raffa, Roger G Mark; *tableone*: An open source Python package for producing summary statistics for research papers, *JAMIA Open*, Volume 1, Issue 1, 1 July 2018, Pages 26–31, https://doi.org/10.1093/jamiaopen/ooy012\n",
    "\n",
    "Download the BibTex file from: https://academic.oup.com/jamiaopen/downloadcitation/5001910?format=bibtex"
   ]
  },
  {
   "cell_type": "markdown",
   "metadata": {},
   "source": [
    "## Installation\n",
    "\n",
    "To install the package with pip, run the following command in your terminal: ``pip install tableone``. To install the package with Conda, run: ``conda install -c conda-forge tableone``. For more detailed installation instructions, refer to the [documentation](http://tableone.readthedocs.io/en/latest/install.html)."
   ]
  },
  {
   "cell_type": "markdown",
   "metadata": {},
   "source": [
    "## Importing libraries\n",
    "\n",
    "Before using the `tableone` package, we need to import it. We will also import `pandas` for loading our sample dataset and `matplotlib` for creating plots."
   ]
  },
  {
   "cell_type": "code",
   "execution_count": 1,
   "metadata": {},
   "outputs": [],
   "source": [
    "# import libraries\n",
    "from tableone import TableOne\n",
    "import pandas as pd\n",
    "import matplotlib.pyplot as plt\n",
    "%matplotlib inline"
   ]
  },
  {
   "cell_type": "markdown",
   "metadata": {},
   "source": [
    "## Loading sample data\n",
    "\n",
    "We begin by loading the data that we would like to summarize into a Pandas DataFrame. \n",
    "- Variables are in columns\n",
    "- Encounters/observations are in rows."
   ]
  },
  {
   "cell_type": "code",
   "execution_count": 2,
   "metadata": {},
   "outputs": [],
   "source": [
    "# load sample data into a pandas dataframe\n",
    "url=\"https://raw.githubusercontent.com/tompollard/tableone/master/data/pn2012_demo.csv\"\n",
    "data=pd.read_csv(url)"
   ]
  },
  {
   "cell_type": "code",
   "execution_count": 3,
   "metadata": {},
   "outputs": [
    {
     "data": {
      "text/html": [
       "<div>\n",
       "<style scoped>\n",
       "    .dataframe tbody tr th:only-of-type {\n",
       "        vertical-align: middle;\n",
       "    }\n",
       "\n",
       "    .dataframe tbody tr th {\n",
       "        vertical-align: top;\n",
       "    }\n",
       "\n",
       "    .dataframe thead th {\n",
       "        text-align: right;\n",
       "    }\n",
       "</style>\n",
       "<table border=\"1\" class=\"dataframe\">\n",
       "  <thead>\n",
       "    <tr style=\"text-align: right;\">\n",
       "      <th></th>\n",
       "      <th>Age</th>\n",
       "      <th>SysABP</th>\n",
       "      <th>Height</th>\n",
       "      <th>Weight</th>\n",
       "      <th>ICU</th>\n",
       "      <th>MechVent</th>\n",
       "      <th>LOS</th>\n",
       "      <th>death</th>\n",
       "    </tr>\n",
       "  </thead>\n",
       "  <tbody>\n",
       "    <tr>\n",
       "      <th>0</th>\n",
       "      <td>54</td>\n",
       "      <td>NaN</td>\n",
       "      <td>NaN</td>\n",
       "      <td>NaN</td>\n",
       "      <td>SICU</td>\n",
       "      <td>0</td>\n",
       "      <td>5</td>\n",
       "      <td>0</td>\n",
       "    </tr>\n",
       "    <tr>\n",
       "      <th>1</th>\n",
       "      <td>76</td>\n",
       "      <td>105.0</td>\n",
       "      <td>175.3</td>\n",
       "      <td>80.6</td>\n",
       "      <td>CSRU</td>\n",
       "      <td>1</td>\n",
       "      <td>8</td>\n",
       "      <td>0</td>\n",
       "    </tr>\n",
       "    <tr>\n",
       "      <th>2</th>\n",
       "      <td>44</td>\n",
       "      <td>148.0</td>\n",
       "      <td>NaN</td>\n",
       "      <td>56.7</td>\n",
       "      <td>MICU</td>\n",
       "      <td>0</td>\n",
       "      <td>19</td>\n",
       "      <td>0</td>\n",
       "    </tr>\n",
       "    <tr>\n",
       "      <th>3</th>\n",
       "      <td>68</td>\n",
       "      <td>NaN</td>\n",
       "      <td>180.3</td>\n",
       "      <td>84.6</td>\n",
       "      <td>MICU</td>\n",
       "      <td>0</td>\n",
       "      <td>9</td>\n",
       "      <td>0</td>\n",
       "    </tr>\n",
       "    <tr>\n",
       "      <th>4</th>\n",
       "      <td>88</td>\n",
       "      <td>NaN</td>\n",
       "      <td>NaN</td>\n",
       "      <td>NaN</td>\n",
       "      <td>MICU</td>\n",
       "      <td>0</td>\n",
       "      <td>4</td>\n",
       "      <td>0</td>\n",
       "    </tr>\n",
       "  </tbody>\n",
       "</table>\n",
       "</div>"
      ],
      "text/plain": [
       "   Age  SysABP  Height  Weight   ICU  MechVent  LOS  death\n",
       "0   54     NaN     NaN     NaN  SICU         0    5      0\n",
       "1   76   105.0   175.3    80.6  CSRU         1    8      0\n",
       "2   44   148.0     NaN    56.7  MICU         0   19      0\n",
       "3   68     NaN   180.3    84.6  MICU         0    9      0\n",
       "4   88     NaN     NaN     NaN  MICU         0    4      0"
      ]
     },
     "execution_count": 3,
     "metadata": {},
     "output_type": "execute_result"
    }
   ],
   "source": [
    "data.head()"
   ]
  },
  {
   "cell_type": "markdown",
   "metadata": {},
   "source": [
    "## Example 1: Simple summary of data with Table 1\n",
    "\n",
    "In this example we provide summary statistics across all of the data."
   ]
  },
  {
   "cell_type": "code",
   "execution_count": 4,
   "metadata": {},
   "outputs": [],
   "source": [
    "# view the tableone docstring\n",
    "TableOne??"
   ]
  },
  {
   "cell_type": "code",
   "execution_count": 5,
   "metadata": {},
   "outputs": [],
   "source": [
    "# create an instance of TableOne with the input arguments\n",
    "# firstly, with no grouping variable\n",
    "overall_table = TableOne(data, label_suffix=True)"
   ]
  },
  {
   "cell_type": "code",
   "execution_count": 6,
   "metadata": {},
   "outputs": [
    {
     "data": {
      "text/html": [
       "<div>\n",
       "<style scoped>\n",
       "    .dataframe tbody tr th:only-of-type {\n",
       "        vertical-align: middle;\n",
       "    }\n",
       "\n",
       "    .dataframe tbody tr th {\n",
       "        vertical-align: top;\n",
       "    }\n",
       "\n",
       "    .dataframe thead th {\n",
       "        text-align: right;\n",
       "    }\n",
       "</style>\n",
       "<table border=\"1\" class=\"dataframe\">\n",
       "  <thead>\n",
       "    <tr style=\"text-align: right;\">\n",
       "      <th></th>\n",
       "      <th></th>\n",
       "      <th>isnull</th>\n",
       "      <th>overall</th>\n",
       "    </tr>\n",
       "    <tr>\n",
       "      <th>variable</th>\n",
       "      <th>level</th>\n",
       "      <th></th>\n",
       "      <th></th>\n",
       "    </tr>\n",
       "  </thead>\n",
       "  <tbody>\n",
       "    <tr>\n",
       "      <th>n</th>\n",
       "      <th></th>\n",
       "      <td></td>\n",
       "      <td>1000</td>\n",
       "    </tr>\n",
       "    <tr>\n",
       "      <th>Age, mean (SD)</th>\n",
       "      <th></th>\n",
       "      <td>0</td>\n",
       "      <td>65.05 (17.18)</td>\n",
       "    </tr>\n",
       "    <tr>\n",
       "      <th>SysABP, mean (SD)</th>\n",
       "      <th></th>\n",
       "      <td>291</td>\n",
       "      <td>114.25 (40.16)</td>\n",
       "    </tr>\n",
       "    <tr>\n",
       "      <th>Height, mean (SD)</th>\n",
       "      <th></th>\n",
       "      <td>475</td>\n",
       "      <td>170.09 (22.06)</td>\n",
       "    </tr>\n",
       "    <tr>\n",
       "      <th>Weight, mean (SD)</th>\n",
       "      <th></th>\n",
       "      <td>302</td>\n",
       "      <td>82.93 (23.83)</td>\n",
       "    </tr>\n",
       "    <tr>\n",
       "      <th rowspan=\"4\" valign=\"top\">ICU, n (%)</th>\n",
       "      <th>CCU</th>\n",
       "      <td>0</td>\n",
       "      <td>162 (16.2)</td>\n",
       "    </tr>\n",
       "    <tr>\n",
       "      <th>CSRU</th>\n",
       "      <td></td>\n",
       "      <td>202 (20.2)</td>\n",
       "    </tr>\n",
       "    <tr>\n",
       "      <th>MICU</th>\n",
       "      <td></td>\n",
       "      <td>380 (38.0)</td>\n",
       "    </tr>\n",
       "    <tr>\n",
       "      <th>SICU</th>\n",
       "      <td></td>\n",
       "      <td>256 (25.6)</td>\n",
       "    </tr>\n",
       "    <tr>\n",
       "      <th rowspan=\"2\" valign=\"top\">MechVent, n (%)</th>\n",
       "      <th>0</th>\n",
       "      <td>0</td>\n",
       "      <td>540 (54.0)</td>\n",
       "    </tr>\n",
       "    <tr>\n",
       "      <th>1</th>\n",
       "      <td></td>\n",
       "      <td>460 (46.0)</td>\n",
       "    </tr>\n",
       "    <tr>\n",
       "      <th>LOS, mean (SD)</th>\n",
       "      <th></th>\n",
       "      <td>0</td>\n",
       "      <td>14.16 (14.18)</td>\n",
       "    </tr>\n",
       "    <tr>\n",
       "      <th rowspan=\"2\" valign=\"top\">death, n (%)</th>\n",
       "      <th>0</th>\n",
       "      <td>0</td>\n",
       "      <td>864 (86.4)</td>\n",
       "    </tr>\n",
       "    <tr>\n",
       "      <th>1</th>\n",
       "      <td></td>\n",
       "      <td>136 (13.6)</td>\n",
       "    </tr>\n",
       "  </tbody>\n",
       "</table>\n",
       "</div><br />[1] Warning, Hartigan's Dip Test reports possible multimodal distributions for: Age, SysABP, Height, LOS.<br />[2] Warning, Tukey test indicates far outliers in: Height, LOS.<br />[3] Warning, test for normality reports non-normal distributions for: Age, SysABP, Height, Weight, LOS.<br />"
      ],
      "text/plain": [
       "                        isnull         overall\n",
       "variable          level                       \n",
       "n                                         1000\n",
       "Age, mean (SD)               0   65.05 (17.18)\n",
       "SysABP, mean (SD)          291  114.25 (40.16)\n",
       "Height, mean (SD)          475  170.09 (22.06)\n",
       "Weight, mean (SD)          302   82.93 (23.83)\n",
       "ICU, n (%)        CCU        0      162 (16.2)\n",
       "                  CSRU              202 (20.2)\n",
       "                  MICU              380 (38.0)\n",
       "                  SICU              256 (25.6)\n",
       "MechVent, n (%)   0          0      540 (54.0)\n",
       "                  1                 460 (46.0)\n",
       "LOS, mean (SD)               0   14.16 (14.18)\n",
       "death, n (%)      0          0      864 (86.4)\n",
       "                  1                 136 (13.6)\n",
       "[1] Warning, Hartigan's Dip Test reports possible multimodal distributions for: Age, SysABP, Height, LOS.\n",
       "[2] Warning, Tukey test indicates far outliers in: Height, LOS.\n",
       "[3] Warning, test for normality reports non-normal distributions for: Age, SysABP, Height, Weight, LOS."
      ]
     },
     "execution_count": 6,
     "metadata": {},
     "output_type": "execute_result"
    }
   ],
   "source": [
    "# view first 10 rows of tableone\n",
    "overall_table"
   ]
  },
  {
   "cell_type": "markdown",
   "metadata": {},
   "source": [
    "**Summary of the table**:\n",
    "- the first row ('`n`') displays a count of the encounters/observations in the input data.\n",
    "- the '`isnull`' column displays a count of the null values for the particular variable.\n",
    "- if categorical variables are not defined in the arguments, they are detected automatically.\n",
    "- continuous variables (e.g. '`age`') are summarized by '`mean (std)`'.\n",
    "- categorical variables (e.g. '`ascites`') are summarized by '`n (% of non-null values)`'.\n",
    "- if `label_suffix=True`, \"mean (SD); n (%);\" etc are appended to the row label."
   ]
  },
  {
   "cell_type": "markdown",
   "metadata": {},
   "source": [
    "## Exploring the warning raised by Hartigan's Dip Test\n",
    "\n",
    "Hartigan's Dip Test is a test for multimodality. The test has suggested that the `Age`, `SysABP`, and `Height` distributions may be multimodal. We'll plot the distributions here."
   ]
  },
  {
   "cell_type": "code",
   "execution_count": 7,
   "metadata": {},
   "outputs": [
    {
     "data": {
      "text/plain": [
       "(-30, 250)"
      ]
     },
     "execution_count": 7,
     "metadata": {},
     "output_type": "execute_result"
    },
    {
     "data": {
      "image/png": "[encoded data removed]",
      "text/plain": [
       "<matplotlib.figure.Figure at 0x101eb4710>"
      ]
     },
     "metadata": {},
     "output_type": "display_data"
    }
   ],
   "source": [
    "data[['Age','SysABP','Height']].dropna().plot.kde(figsize=[12,8])\n",
    "plt.legend(['Age (years)', 'SysABP (mmHg)', 'Height (cm)'])\n",
    "plt.xlim([-30,250])"
   ]
  },
  {
   "cell_type": "markdown",
   "metadata": {},
   "source": [
    "## Exploring the warning raised by Tukey's rule\n",
    "\n",
    "Tukey's rule has found far outliers in Height, so we'll look at this in a boxplot"
   ]
  },
  {
   "cell_type": "code",
   "execution_count": 8,
   "metadata": {},
   "outputs": [
    {
     "data": {
      "image/png": "[encoded data removed]",
      "text/plain": [
       "<matplotlib.figure.Figure at 0x101eb48d0>"
      ]
     },
     "metadata": {},
     "output_type": "display_data"
    }
   ],
   "source": [
    "data[['Age','Height','SysABP']].boxplot(whis=3)\n",
    "plt.show()"
   ]
  },
  {
   "cell_type": "markdown",
   "metadata": {},
   "source": [
    "In both cases it seems that there are values that may need to be taken into account when calculating the summary statistics. For `SysABP`, a clearly bimodal distribution, the researcher will need to decide how to handle the peak at ~0, perhaps by cleaning the data and/or describing the issue in the summary table. For `Height`, the researcher may choose to report median, rather than mean."
   ]
  },
  {
   "cell_type": "markdown",
   "metadata": {},
   "source": [
    "## Example 2: Table 1 without stratification\n",
    "\n",
    "In this example we provide summary statistics across all of the data, specifying columns, categorical variables, and non-normal variables."
   ]
  },
  {
   "cell_type": "code",
   "execution_count": 9,
   "metadata": {},
   "outputs": [
    {
     "data": {
      "text/html": [
       "<div>\n",
       "<style scoped>\n",
       "    .dataframe tbody tr th:only-of-type {\n",
       "        vertical-align: middle;\n",
       "    }\n",
       "\n",
       "    .dataframe tbody tr th {\n",
       "        vertical-align: top;\n",
       "    }\n",
       "\n",
       "    .dataframe thead th {\n",
       "        text-align: right;\n",
       "    }\n",
       "</style>\n",
       "<table border=\"1\" class=\"dataframe\">\n",
       "  <thead>\n",
       "    <tr style=\"text-align: right;\">\n",
       "      <th></th>\n",
       "      <th></th>\n",
       "      <th>isnull</th>\n",
       "      <th>overall</th>\n",
       "    </tr>\n",
       "    <tr>\n",
       "      <th>variable</th>\n",
       "      <th>level</th>\n",
       "      <th></th>\n",
       "      <th></th>\n",
       "    </tr>\n",
       "  </thead>\n",
       "  <tbody>\n",
       "    <tr>\n",
       "      <th>n</th>\n",
       "      <th></th>\n",
       "      <td></td>\n",
       "      <td>1000</td>\n",
       "    </tr>\n",
       "    <tr>\n",
       "      <th>Age, median (IQR)</th>\n",
       "      <th></th>\n",
       "      <td>0</td>\n",
       "      <td>68.00 [53.00,79.00]</td>\n",
       "    </tr>\n",
       "    <tr>\n",
       "      <th>SysABP, mean (SD)</th>\n",
       "      <th></th>\n",
       "      <td>291</td>\n",
       "      <td>114.25 (40.16)</td>\n",
       "    </tr>\n",
       "    <tr>\n",
       "      <th>Height, mean (SD)</th>\n",
       "      <th></th>\n",
       "      <td>475</td>\n",
       "      <td>170.09 (22.06)</td>\n",
       "    </tr>\n",
       "    <tr>\n",
       "      <th>Weight, mean (SD)</th>\n",
       "      <th></th>\n",
       "      <td>302</td>\n",
       "      <td>82.93 (23.83)</td>\n",
       "    </tr>\n",
       "    <tr>\n",
       "      <th rowspan=\"4\" valign=\"top\">ICU, n (%)</th>\n",
       "      <th>CCU</th>\n",
       "      <td>0</td>\n",
       "      <td>162 (16.2)</td>\n",
       "    </tr>\n",
       "    <tr>\n",
       "      <th>CSRU</th>\n",
       "      <td></td>\n",
       "      <td>202 (20.2)</td>\n",
       "    </tr>\n",
       "    <tr>\n",
       "      <th>MICU</th>\n",
       "      <td></td>\n",
       "      <td>380 (38.0)</td>\n",
       "    </tr>\n",
       "    <tr>\n",
       "      <th>SICU</th>\n",
       "      <td></td>\n",
       "      <td>256 (25.6)</td>\n",
       "    </tr>\n",
       "    <tr>\n",
       "      <th rowspan=\"2\" valign=\"top\">mortality, n (%)</th>\n",
       "      <th>0</th>\n",
       "      <td>0</td>\n",
       "      <td>864 (86.4)</td>\n",
       "    </tr>\n",
       "    <tr>\n",
       "      <th>1</th>\n",
       "      <td></td>\n",
       "      <td>136 (13.6)</td>\n",
       "    </tr>\n",
       "  </tbody>\n",
       "</table>\n",
       "</div><br />[1] Warning, Hartigan's Dip Test reports possible multimodal distributions for: Age, SysABP, Height.<br />[2] Warning, Tukey test indicates far outliers in: Height.<br />[3] Warning, test for normality reports non-normal distributions for: Age, SysABP, Height, Weight.<br />"
      ],
      "text/plain": [
       "                        isnull              overall\n",
       "variable          level                            \n",
       "n                                              1000\n",
       "Age, median (IQR)            0  68.00 [53.00,79.00]\n",
       "SysABP, mean (SD)          291       114.25 (40.16)\n",
       "Height, mean (SD)          475       170.09 (22.06)\n",
       "Weight, mean (SD)          302        82.93 (23.83)\n",
       "ICU, n (%)        CCU        0           162 (16.2)\n",
       "                  CSRU                   202 (20.2)\n",
       "                  MICU                   380 (38.0)\n",
       "                  SICU                   256 (25.6)\n",
       "mortality, n (%)  0          0           864 (86.4)\n",
       "                  1                      136 (13.6)\n",
       "[1] Warning, Hartigan's Dip Test reports possible multimodal distributions for: Age, SysABP, Height.\n",
       "[2] Warning, Tukey test indicates far outliers in: Height.\n",
       "[3] Warning, test for normality reports non-normal distributions for: Age, SysABP, Height, Weight."
      ]
     },
     "execution_count": 9,
     "metadata": {},
     "output_type": "execute_result"
    }
   ],
   "source": [
    "# columns to be summarized\n",
    "columns = ['Age', 'SysABP', 'Height', 'Weight', 'ICU', 'death']\n",
    "\n",
    "# columns containing categorical variables\n",
    "categorical = ['ICU', 'death']\n",
    "\n",
    "# non-normal variables\n",
    "nonnormal = ['Age']\n",
    "\n",
    "# alternative labels\n",
    "labels={'death': 'mortality'}\n",
    "\n",
    "# create tableone with the input arguments\n",
    "mytable = TableOne(data, columns=columns, categorical=categorical, \n",
    "nonnormal=nonnormal, labels=labels, label_suffix=True)\n",
    "mytable"
   ]
  },
  {
   "cell_type": "markdown",
   "metadata": {},
   "source": [
    "**Summary of the table**:\n",
    "\n",
    "- as before, except that the variables are explicitly defined in the input arguments.\n",
    "- continuous variables are now summarized by '`median [IQR]`' if specified as `nonnormal`.\n",
    "- the labels argument means that 'sex' is now shown as 'gender, and 'trt' is now 'treatment'."
   ]
  },
  {
   "cell_type": "markdown",
   "metadata": {},
   "source": [
    "## Example 3: Table 1 with stratification\n",
    "\n",
    "In this example, we group data across a categorical variable."
   ]
  },
  {
   "cell_type": "code",
   "execution_count": 10,
   "metadata": {},
   "outputs": [],
   "source": [
    "# optionally, a categorical variable for stratification\n",
    "groupby = ['death']"
   ]
  },
  {
   "cell_type": "code",
   "execution_count": 11,
   "metadata": {},
   "outputs": [],
   "source": [
    "# create an instance of TableOne with the input arguments\n",
    "grouped_table = TableOne(data, columns, categorical, groupby, nonnormal, label_suffix=True)"
   ]
  },
  {
   "cell_type": "code",
   "execution_count": 12,
   "metadata": {},
   "outputs": [
    {
     "data": {
      "text/html": [
       "<div>\n",
       "<style scoped>\n",
       "    .dataframe tbody tr th:only-of-type {\n",
       "        vertical-align: middle;\n",
       "    }\n",
       "\n",
       "    .dataframe tbody tr th {\n",
       "        vertical-align: top;\n",
       "    }\n",
       "\n",
       "    .dataframe thead tr th {\n",
       "        text-align: left;\n",
       "    }\n",
       "\n",
       "    .dataframe thead tr:last-of-type th {\n",
       "        text-align: right;\n",
       "    }\n",
       "</style>\n",
       "<table border=\"1\" class=\"dataframe\">\n",
       "  <thead>\n",
       "    <tr>\n",
       "      <th></th>\n",
       "      <th></th>\n",
       "      <th colspan=\"3\" halign=\"left\">Grouped by death</th>\n",
       "    </tr>\n",
       "    <tr>\n",
       "      <th></th>\n",
       "      <th></th>\n",
       "      <th>isnull</th>\n",
       "      <th>0</th>\n",
       "      <th>1</th>\n",
       "    </tr>\n",
       "    <tr>\n",
       "      <th>variable</th>\n",
       "      <th>level</th>\n",
       "      <th></th>\n",
       "      <th></th>\n",
       "      <th></th>\n",
       "    </tr>\n",
       "  </thead>\n",
       "  <tbody>\n",
       "    <tr>\n",
       "      <th>n</th>\n",
       "      <th></th>\n",
       "      <td></td>\n",
       "      <td>864</td>\n",
       "      <td>136</td>\n",
       "    </tr>\n",
       "    <tr>\n",
       "      <th>Age, median (IQR)</th>\n",
       "      <th></th>\n",
       "      <td>0</td>\n",
       "      <td>66.00 [52.75,78.00]</td>\n",
       "      <td>75.00 [62.00,83.00]</td>\n",
       "    </tr>\n",
       "    <tr>\n",
       "      <th>SysABP, mean (SD)</th>\n",
       "      <th></th>\n",
       "      <td>291</td>\n",
       "      <td>115.36 (38.34)</td>\n",
       "      <td>107.57 (49.43)</td>\n",
       "    </tr>\n",
       "    <tr>\n",
       "      <th>Height, mean (SD)</th>\n",
       "      <th></th>\n",
       "      <td>475</td>\n",
       "      <td>170.33 (23.22)</td>\n",
       "      <td>168.51 (11.31)</td>\n",
       "    </tr>\n",
       "    <tr>\n",
       "      <th>Weight, mean (SD)</th>\n",
       "      <th></th>\n",
       "      <td>302</td>\n",
       "      <td>83.04 (23.58)</td>\n",
       "      <td>82.29 (25.40)</td>\n",
       "    </tr>\n",
       "    <tr>\n",
       "      <th rowspan=\"4\" valign=\"top\">ICU, n (%)</th>\n",
       "      <th>CCU</th>\n",
       "      <td>0</td>\n",
       "      <td>137 (15.86)</td>\n",
       "      <td>25 (18.38)</td>\n",
       "    </tr>\n",
       "    <tr>\n",
       "      <th>CSRU</th>\n",
       "      <td></td>\n",
       "      <td>194 (22.45)</td>\n",
       "      <td>8 (5.88)</td>\n",
       "    </tr>\n",
       "    <tr>\n",
       "      <th>MICU</th>\n",
       "      <td></td>\n",
       "      <td>318 (36.81)</td>\n",
       "      <td>62 (45.59)</td>\n",
       "    </tr>\n",
       "    <tr>\n",
       "      <th>SICU</th>\n",
       "      <td></td>\n",
       "      <td>215 (24.88)</td>\n",
       "      <td>41 (30.15)</td>\n",
       "    </tr>\n",
       "    <tr>\n",
       "      <th rowspan=\"2\" valign=\"top\">death, n (%)</th>\n",
       "      <th>0</th>\n",
       "      <td>0</td>\n",
       "      <td>864 (100.0)</td>\n",
       "      <td></td>\n",
       "    </tr>\n",
       "    <tr>\n",
       "      <th>1</th>\n",
       "      <td></td>\n",
       "      <td></td>\n",
       "      <td>136 (100.0)</td>\n",
       "    </tr>\n",
       "  </tbody>\n",
       "</table>\n",
       "</div><br />[1] Warning, Hartigan's Dip Test reports possible multimodal distributions for: Age, Height, SysABP.<br />[2] Warning, Tukey test indicates far outliers in: Height, SysABP.<br />[3] Warning, test for normality reports non-normal distributions for: Age, Height, SysABP, Weight.<br />"
      ],
      "text/plain": [
       "                        Grouped by death                                          \n",
       "                                  isnull                    0                    1\n",
       "variable          level                                                           \n",
       "n                                                         864                  136\n",
       "Age, median (IQR)                      0  66.00 [52.75,78.00]  75.00 [62.00,83.00]\n",
       "SysABP, mean (SD)                    291       115.36 (38.34)       107.57 (49.43)\n",
       "Height, mean (SD)                    475       170.33 (23.22)       168.51 (11.31)\n",
       "Weight, mean (SD)                    302        83.04 (23.58)        82.29 (25.40)\n",
       "ICU, n (%)        CCU                  0          137 (15.86)           25 (18.38)\n",
       "                  CSRU                            194 (22.45)             8 (5.88)\n",
       "                  MICU                            318 (36.81)           62 (45.59)\n",
       "                  SICU                            215 (24.88)           41 (30.15)\n",
       "death, n (%)      0                    0          864 (100.0)                     \n",
       "                  1                                                    136 (100.0)\n",
       "[1] Warning, Hartigan's Dip Test reports possible multimodal distributions for: Age, Height, SysABP.\n",
       "[2] Warning, Tukey test indicates far outliers in: Height, SysABP.\n",
       "[3] Warning, test for normality reports non-normal distributions for: Age, Height, SysABP, Weight."
      ]
     },
     "execution_count": 12,
     "metadata": {},
     "output_type": "execute_result"
    }
   ],
   "source": [
    "# view first 10 rows of tableone\n",
    "grouped_table"
   ]
  },
  {
   "cell_type": "markdown",
   "metadata": {},
   "source": [
    "**Summary of the table**:\n",
    "- data is now summarized across the groups specified in the `groupby` argument.\n",
    "- as before, the summary statistics are either '`mean (std)`', '`median [IQR]`', or '`n (% of non-null values)`'."
   ]
  },
  {
   "cell_type": "markdown",
   "metadata": {},
   "source": [
    "## Computing p values\n",
    "\n",
    "We can run a test to compute p values by setting the ``pval`` argument to True."
   ]
  },
  {
   "cell_type": "code",
   "execution_count": 13,
   "metadata": {},
   "outputs": [],
   "source": [
    "# create grouped_table with p values\n",
    "grouped_table = TableOne(data, columns, categorical, groupby, nonnormal, label_suffix=True, pval = True)"
   ]
  },
  {
   "cell_type": "code",
   "execution_count": 14,
   "metadata": {},
   "outputs": [
    {
     "data": {
      "text/html": [
       "<div>\n",
       "<style scoped>\n",
       "    .dataframe tbody tr th:only-of-type {\n",
       "        vertical-align: middle;\n",
       "    }\n",
       "\n",
       "    .dataframe tbody tr th {\n",
       "        vertical-align: top;\n",
       "    }\n",
       "\n",
       "    .dataframe thead tr th {\n",
       "        text-align: left;\n",
       "    }\n",
       "\n",
       "    .dataframe thead tr:last-of-type th {\n",
       "        text-align: right;\n",
       "    }\n",
       "</style>\n",
       "<table border=\"1\" class=\"dataframe\">\n",
       "  <thead>\n",
       "    <tr>\n",
       "      <th></th>\n",
       "      <th></th>\n",
       "      <th colspan=\"5\" halign=\"left\">Grouped by death</th>\n",
       "    </tr>\n",
       "    <tr>\n",
       "      <th></th>\n",
       "      <th></th>\n",
       "      <th>isnull</th>\n",
       "      <th>0</th>\n",
       "      <th>1</th>\n",
       "      <th>pval</th>\n",
       "      <th>ptest</th>\n",
       "    </tr>\n",
       "    <tr>\n",
       "      <th>variable</th>\n",
       "      <th>level</th>\n",
       "      <th></th>\n",
       "      <th></th>\n",
       "      <th></th>\n",
       "      <th></th>\n",
       "      <th></th>\n",
       "    </tr>\n",
       "  </thead>\n",
       "  <tbody>\n",
       "    <tr>\n",
       "      <th>n</th>\n",
       "      <th></th>\n",
       "      <td></td>\n",
       "      <td>864</td>\n",
       "      <td>136</td>\n",
       "      <td></td>\n",
       "      <td></td>\n",
       "    </tr>\n",
       "    <tr>\n",
       "      <th>Age, median (IQR)</th>\n",
       "      <th></th>\n",
       "      <td>0</td>\n",
       "      <td>66.00 [52.75,78.00]</td>\n",
       "      <td>75.00 [62.00,83.00]</td>\n",
       "      <td>&lt;0.001</td>\n",
       "      <td>Kruskal-Wallis</td>\n",
       "    </tr>\n",
       "    <tr>\n",
       "      <th>SysABP, mean (SD)</th>\n",
       "      <th></th>\n",
       "      <td>291</td>\n",
       "      <td>115.36 (38.34)</td>\n",
       "      <td>107.57 (49.43)</td>\n",
       "      <td>0.134</td>\n",
       "      <td>Two Sample T-test</td>\n",
       "    </tr>\n",
       "    <tr>\n",
       "      <th>Height, mean (SD)</th>\n",
       "      <th></th>\n",
       "      <td>475</td>\n",
       "      <td>170.33 (23.22)</td>\n",
       "      <td>168.51 (11.31)</td>\n",
       "      <td>0.304</td>\n",
       "      <td>Two Sample T-test</td>\n",
       "    </tr>\n",
       "    <tr>\n",
       "      <th>Weight, mean (SD)</th>\n",
       "      <th></th>\n",
       "      <td>302</td>\n",
       "      <td>83.04 (23.58)</td>\n",
       "      <td>82.29 (25.40)</td>\n",
       "      <td>0.782</td>\n",
       "      <td>Two Sample T-test</td>\n",
       "    </tr>\n",
       "    <tr>\n",
       "      <th rowspan=\"4\" valign=\"top\">ICU, n (%)</th>\n",
       "      <th>CCU</th>\n",
       "      <td>0</td>\n",
       "      <td>137 (15.86)</td>\n",
       "      <td>25 (18.38)</td>\n",
       "      <td>&lt;0.001</td>\n",
       "      <td>Chi-squared</td>\n",
       "    </tr>\n",
       "    <tr>\n",
       "      <th>CSRU</th>\n",
       "      <td></td>\n",
       "      <td>194 (22.45)</td>\n",
       "      <td>8 (5.88)</td>\n",
       "      <td></td>\n",
       "      <td></td>\n",
       "    </tr>\n",
       "    <tr>\n",
       "      <th>MICU</th>\n",
       "      <td></td>\n",
       "      <td>318 (36.81)</td>\n",
       "      <td>62 (45.59)</td>\n",
       "      <td></td>\n",
       "      <td></td>\n",
       "    </tr>\n",
       "    <tr>\n",
       "      <th>SICU</th>\n",
       "      <td></td>\n",
       "      <td>215 (24.88)</td>\n",
       "      <td>41 (30.15)</td>\n",
       "      <td></td>\n",
       "      <td></td>\n",
       "    </tr>\n",
       "    <tr>\n",
       "      <th rowspan=\"2\" valign=\"top\">death, n (%)</th>\n",
       "      <th>0</th>\n",
       "      <td>0</td>\n",
       "      <td>864 (100.0)</td>\n",
       "      <td></td>\n",
       "      <td>&lt;0.001</td>\n",
       "      <td>Chi-squared</td>\n",
       "    </tr>\n",
       "    <tr>\n",
       "      <th>1</th>\n",
       "      <td></td>\n",
       "      <td></td>\n",
       "      <td>136 (100.0)</td>\n",
       "      <td></td>\n",
       "      <td></td>\n",
       "    </tr>\n",
       "  </tbody>\n",
       "</table>\n",
       "</div><br />[1] Warning, Hartigan's Dip Test reports possible multimodal distributions for: Age, Height, SysABP.<br />[2] Warning, Tukey test indicates far outliers in: Height, SysABP.<br />[3] Warning, test for normality reports non-normal distributions for: Age, Height, SysABP, Weight.<br />"
      ],
      "text/plain": [
       "                        Grouped by death                                                                     \n",
       "                                  isnull                    0                    1    pval              ptest\n",
       "variable          level                                                                                      \n",
       "n                                                         864                  136                           \n",
       "Age, median (IQR)                      0  66.00 [52.75,78.00]  75.00 [62.00,83.00]  <0.001     Kruskal-Wallis\n",
       "SysABP, mean (SD)                    291       115.36 (38.34)       107.57 (49.43)   0.134  Two Sample T-test\n",
       "Height, mean (SD)                    475       170.33 (23.22)       168.51 (11.31)   0.304  Two Sample T-test\n",
       "Weight, mean (SD)                    302        83.04 (23.58)        82.29 (25.40)   0.782  Two Sample T-test\n",
       "ICU, n (%)        CCU                  0          137 (15.86)           25 (18.38)  <0.001        Chi-squared\n",
       "                  CSRU                            194 (22.45)             8 (5.88)                           \n",
       "                  MICU                            318 (36.81)           62 (45.59)                           \n",
       "                  SICU                            215 (24.88)           41 (30.15)                           \n",
       "death, n (%)      0                    0          864 (100.0)                       <0.001        Chi-squared\n",
       "                  1                                                    136 (100.0)                           \n",
       "[1] Warning, Hartigan's Dip Test reports possible multimodal distributions for: Age, Height, SysABP.\n",
       "[2] Warning, Tukey test indicates far outliers in: Height, SysABP.\n",
       "[3] Warning, test for normality reports non-normal distributions for: Age, Height, SysABP, Weight."
      ]
     },
     "execution_count": 14,
     "metadata": {},
     "output_type": "execute_result"
    }
   ],
   "source": [
    "# view first 10 rows of tableone\n",
    "grouped_table"
   ]
  },
  {
   "cell_type": "markdown",
   "metadata": {},
   "source": [
    "**Summary of the table**:\n",
    "- the '`ptest`' column displays the name of the test used to compare the groups.\n",
    "- the '`pval`' column displays the p value generated by the test in the '`ptest`' column, to 3 decimal places."
   ]
  },
  {
   "cell_type": "markdown",
   "metadata": {},
   "source": [
    "## Exporting the table to file (LaTeX, CSV, etc)\n",
    "\n",
    "Tables can be exported to file in various formats, including:\n",
    "- LaTeX\n",
    "- CSV\n",
    "- HTML\n",
    "\n",
    "To export the table, call the relevant `to_<format>()` method on the DataFrame."
   ]
  },
  {
   "cell_type": "code",
   "execution_count": 15,
   "metadata": {},
   "outputs": [],
   "source": [
    "# Save table to LaTeX\n",
    "fn = 'tableone.tex'\n",
    "grouped_table.to_latex(fn)"
   ]
  },
  {
   "cell_type": "code",
   "execution_count": 16,
   "metadata": {},
   "outputs": [],
   "source": [
    "# Save table to HTML\n",
    "fn2 = 'tableone.html'\n",
    "grouped_table.to_html(fn2)"
   ]
  }
 ],
 "metadata": {
  "kernelspec": {
   "display_name": "Python 3",
   "language": "python",
   "name": "python3"
  },
  "language_info": {
   "codemirror_mode": {
    "name": "ipython",
    "version": 3
   },
   "file_extension": ".py",
   "mimetype": "text/x-python",
   "name": "python",
   "nbconvert_exporter": "python",
   "pygments_lexer": "ipython3",
   "version": "3.6.5"
  }
 },
 "nbformat": 4,
 "nbformat_minor": 2
}
